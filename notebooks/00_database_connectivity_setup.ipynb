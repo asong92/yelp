{
 "cells": [
  {
   "cell_type": "code",
   "execution_count": 5,
   "metadata": {
    "collapsed": true
   },
   "outputs": [],
   "source": [
    "%matplotlib inline\n",
    "import psycopg2\n",
    "import pandas as pd\n",
    "import pandas.io.sql as psql\n",
    "import ConfigParser\n",
    "import os\n",
    "import IPython\n",
    "from IPython.display import display\n",
    "from IPython.display import HTML\n",
    "#Maximum height of a result set\n",
    "pd.set_option('display.max_rows', 500)\n",
    "#Maximum number of rows to display in a cell.\n",
    "pd.set_option('display.max_columns', 100)\n",
    "#Show the full content of columns\n",
    "pd.set_option('display.max_colwidth', -1)"
   ]
  },
  {
   "cell_type": "markdown",
   "metadata": {},
   "source": [
    "##Setting up database connectivity\n",
    "\n",
    "1. Create a file in your home directory containing the database credentials for your target environment. \n",
    "For example:\n",
    "```\n",
    "~ vim ~/.dslab_user.cred\n",
    "```\n",
    "The content of this file should look like so (with appropriate values for HOSTNAME, PORT, USER, DATABASE & PASSWORD).\n",
    "```\n",
    "[database_creds]\n",
    "host: HOSTNAME\n",
    "port: PORT\n",
    "user: USER\n",
    "database: DATABASE\n",
    "password: PASSWORD\n",
    "```\n",
    "2. Please set the permissions of this file to u+rwx (700), so that only you can access this file.\n",
    "```\n",
    "~ chmod 700 ~/.dslab_user.cred\n",
    "```\n",
    "You should see the following\n",
    "```\n",
    "~ ls -l ~/.dslab_user.cred \n",
    "-rwx------  1 USER  720748206  93 Jun 29 17:27 $HOME/.dslab_user.cred\n",
    "```"
   ]
  },
  {
   "cell_type": "markdown",
   "metadata": {},
   "source": [
    "## Creating database connection string"
   ]
  },
  {
   "cell_type": "code",
   "execution_count": 6,
   "metadata": {
    "collapsed": false
   },
   "outputs": [],
   "source": [
    "USER_CRED_FILE = os.path.join(os.path.expanduser('~'), '.db.creds')\n",
    "\n",
    "def fetchDBCredentials(dbcred_file=USER_CRED_FILE):\n",
    "    \"\"\"\n",
    "       Read database access credentials from the file in $HOME/.ipynb_dslab.cred\n",
    "    \"\"\"\n",
    "    #Read database credentials from user supplied file\n",
    "    conf = ConfigParser.ConfigParser()\n",
    "    conf.read(dbcred_file)\n",
    "    #host, port, user, database, password\n",
    "    host = conf.get('database_creds','host')\n",
    "    port = conf.get('database_creds','port')\n",
    "    user = conf.get('database_creds','user')\n",
    "    database = conf.get('database_creds','database')\n",
    "    password = conf.get('database_creds','password')\n",
    "\n",
    "    #Initialize connection string\n",
    "    conn_str =  \"\"\"dbname='{database}' user='{user}' host='{host}' port='{port}' password='{password}'\"\"\".format(                       \n",
    "                    database=database,\n",
    "                    host=host,\n",
    "                    port=port,\n",
    "                    user=user,\n",
    "                    password=password\n",
    "            )\n",
    "    return conn_str"
   ]
  },
  {
   "cell_type": "code",
   "execution_count": 7,
   "metadata": {
    "collapsed": false
   },
   "outputs": [
    {
     "data": {
      "text/plain": [
       "'/Users/asong/.db.creds'"
      ]
     },
     "execution_count": 7,
     "metadata": {},
     "output_type": "execute_result"
    }
   ],
   "source": [
    "USER_CRED_FILE"
   ]
  },
  {
   "cell_type": "markdown",
   "metadata": {
    "collapsed": true
   },
   "source": [
    "## Test your connection to the database"
   ]
  },
  {
   "cell_type": "code",
   "execution_count": 8,
   "metadata": {
    "collapsed": false
   },
   "outputs": [
    {
     "data": {
      "text/html": [
       "<div>\n",
       "<table border=\"1\" class=\"dataframe\">\n",
       "  <thead>\n",
       "    <tr style=\"text-align: right;\">\n",
       "      <th></th>\n",
       "      <th>x</th>\n",
       "      <th>y</th>\n",
       "    </tr>\n",
       "  </thead>\n",
       "  <tbody>\n",
       "    <tr>\n",
       "      <th>0</th>\n",
       "      <td>0.696615</td>\n",
       "      <td>0.485282</td>\n",
       "    </tr>\n",
       "    <tr>\n",
       "      <th>1</th>\n",
       "      <td>0.472737</td>\n",
       "      <td>0.866166</td>\n",
       "    </tr>\n",
       "    <tr>\n",
       "      <th>2</th>\n",
       "      <td>0.790507</td>\n",
       "      <td>0.586475</td>\n",
       "    </tr>\n",
       "    <tr>\n",
       "      <th>3</th>\n",
       "      <td>0.660775</td>\n",
       "      <td>0.075144</td>\n",
       "    </tr>\n",
       "    <tr>\n",
       "      <th>4</th>\n",
       "      <td>0.188595</td>\n",
       "      <td>0.746354</td>\n",
       "    </tr>\n",
       "  </tbody>\n",
       "</table>\n",
       "</div>"
      ],
      "text/plain": [
       "          x         y\n",
       "0  0.696615  0.485282\n",
       "1  0.472737  0.866166\n",
       "2  0.790507  0.586475\n",
       "3  0.660775  0.075144\n",
       "4  0.188595  0.746354"
      ]
     },
     "execution_count": 8,
     "metadata": {},
     "output_type": "execute_result"
    }
   ],
   "source": [
    "conn = psycopg2.connect(fetchDBCredentials())\n",
    "df = psql.read_sql(\"\"\"select random() as x, random() as y from generate_series(1, 10) q;\"\"\", conn)\n",
    "df.head()"
   ]
  },
  {
   "cell_type": "markdown",
   "metadata": {},
   "source": [
    "If you see an HTML table with 3 columns and 5 rows above, your connection to the database was successful. "
   ]
  },
  {
   "cell_type": "markdown",
   "metadata": {},
   "source": [
    "##Opening Connections to Multiple Clusters"
   ]
  },
  {
   "cell_type": "markdown",
   "metadata": {},
   "source": [
    "If you want to open multiple connections (say one for GPDB and for your HAWQ cluster), you can create another file similar to `~/.dslab_user.cred`, populate the appropriate credentials, and supply this file as input to the `fetchDBCredentials()` function shown above.\n",
    "\n",
    "For instance, let's say you created another file `~/.dslab_user.cred.gpdb` containing the appropriate credentials to connect to your GPDB cluster, then you can open a connection to this cluster with psycopg2 as follows:\n",
    "```\n",
    "db_cred_file_gpdb = os.path.join(os.path.expanduser('~'), '.dslab_user.cred.gpdb')\n",
    "conn_gpdb = psycopg2.connect(fetchDBCredentials(db_cred_file_gpdb))\n",
    "df = psql.read_sql(\"\"\"select random() as x, random() as y from generate_series(1, 10) q;\"\"\", conn_gpdb)\n",
    "df.head()\n",
    "```\n",
    "For all subsequent instance where you want to query the data on GPDB, you can use `conn_gpdb` in place of `conn` in your code."
   ]
  },
  {
   "cell_type": "code",
   "execution_count": 15,
   "metadata": {
    "collapsed": true
   },
   "outputs": [],
   "source": [
    "## Define magic commands to run SQL inline"
   ]
  },
  {
   "cell_type": "code",
   "execution_count": 1,
   "metadata": {
    "collapsed": false
   },
   "outputs": [],
   "source": [
    "from IPython.core.magic import (register_line_magic, register_cell_magic,\n",
    "                                register_line_cell_magic)\n",
    "@register_cell_magic\n",
    "def showsql(line, cell):\n",
    "    \"\"\"\n",
    "        Extract the code in the specific cell (should be valid SQL), and execute\n",
    "        it using the connection object to the backend database. \n",
    "        The resulting Pandas dataframe\n",
    "        is rendered inline below the cell using IPython.display.\n",
    "        You'd use this for SELECT\n",
    "    \"\"\"\n",
    "    #Use the global connection object defined above.\n",
    "    global conn\n",
    "    _ = psql.read_sql(cell, conn)\n",
    "    conn.commit()\n",
    "    \n",
    "    display(_)\n",
    "    return\n",
    "    \n",
    "@register_cell_magic\n",
    "def execsql(line, cell):\n",
    "    \"\"\"\n",
    "        Extract the code in the specific cell (should be valid SQL), and execute\n",
    "        it using the connection object to the backend database. \n",
    "        You'd use this for CREATE/UPDATE/DELETE\n",
    "    \"\"\"\n",
    "    #Use the global connection object defined above.\n",
    "    global conn\n",
    "    _ = psql.execute(cell, conn)\n",
    "    conn.commit()\n",
    "    return\n",
    "\n",
    "\n",
    "# We delete these to avoid name conflicts for automagic to work\n",
    "del execsql, showsql"
   ]
  },
  {
   "cell_type": "code",
   "execution_count": 9,
   "metadata": {
    "collapsed": false
   },
   "outputs": [
    {
     "data": {
      "text/html": [
       "<div>\n",
       "<table border=\"1\" class=\"dataframe\">\n",
       "  <thead>\n",
       "    <tr style=\"text-align: right;\">\n",
       "      <th></th>\n",
       "      <th>x</th>\n",
       "      <th>y</th>\n",
       "    </tr>\n",
       "  </thead>\n",
       "  <tbody>\n",
       "    <tr>\n",
       "      <th>0</th>\n",
       "      <td>0.091602</td>\n",
       "      <td>0.598490</td>\n",
       "    </tr>\n",
       "    <tr>\n",
       "      <th>1</th>\n",
       "      <td>0.507249</td>\n",
       "      <td>0.647970</td>\n",
       "    </tr>\n",
       "    <tr>\n",
       "      <th>2</th>\n",
       "      <td>0.255373</td>\n",
       "      <td>0.092147</td>\n",
       "    </tr>\n",
       "    <tr>\n",
       "      <th>3</th>\n",
       "      <td>0.938682</td>\n",
       "      <td>0.058391</td>\n",
       "    </tr>\n",
       "    <tr>\n",
       "      <th>4</th>\n",
       "      <td>0.376374</td>\n",
       "      <td>0.400057</td>\n",
       "    </tr>\n",
       "  </tbody>\n",
       "</table>\n",
       "</div>"
      ],
      "text/plain": [
       "          x         y\n",
       "0  0.091602  0.598490\n",
       "1  0.507249  0.647970\n",
       "2  0.255373  0.092147\n",
       "3  0.938682  0.058391\n",
       "4  0.376374  0.400057"
      ]
     },
     "metadata": {},
     "output_type": "display_data"
    }
   ],
   "source": [
    "%%showsql\n",
    "select\n",
    "    random() as x,\n",
    "    random() as y\n",
    "from\n",
    "    generate_series(1, 5);"
   ]
  }
 ],
 "metadata": {
  "kernelspec": {
   "display_name": "Python 2",
   "language": "python",
   "name": "python2"
  },
  "language_info": {
   "codemirror_mode": {
    "name": "ipython",
    "version": 2
   },
   "file_extension": ".py",
   "mimetype": "text/x-python",
   "name": "python",
   "nbconvert_exporter": "python",
   "pygments_lexer": "ipython2",
   "version": "2.7.11"
  }
 },
 "nbformat": 4,
 "nbformat_minor": 0
}
